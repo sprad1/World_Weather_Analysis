{
 "cells": [
  {
   "cell_type": "markdown",
   "id": "9747b34c",
   "metadata": {},
   "source": [
    "## 6.1.4 "
   ]
  },
  {
   "cell_type": "code",
   "execution_count": 23,
   "id": "b7a9a043",
   "metadata": {},
   "outputs": [],
   "source": [
    "# Import the random module.\n",
    "import random"
   ]
  },
  {
   "cell_type": "code",
   "execution_count": 24,
   "id": "2dfb15a8",
   "metadata": {},
   "outputs": [
    {
     "data": {
      "text/plain": [
       "-76"
      ]
     },
     "execution_count": 24,
     "metadata": {},
     "output_type": "execute_result"
    }
   ],
   "source": [
    "# for testing, use randint(), random(), randrange() and unifrom()\n",
    "# randint is short for \"random integer\"\n",
    "\n",
    "random.randint(-90, 90)\n",
    "\n",
    "# when the cell is ran, get a single integer - but we need 1,500 random decimal numbers. \n",
    "# the randint() fxn only returns one integer, not a floating-point decimal so try random()"
   ]
  },
  {
   "cell_type": "code",
   "execution_count": 25,
   "id": "62c35a64",
   "metadata": {},
   "outputs": [
    {
     "data": {
      "text/plain": [
       "0.09983410451407093"
      ]
     },
     "execution_count": 25,
     "metadata": {},
     "output_type": "execute_result"
    }
   ],
   "source": [
    "random.random()\n",
    "\n",
    "# output is a (floating-point decimal) decimal point number b/w 0 and 1.0. "
   ]
  },
  {
   "cell_type": "code",
   "execution_count": 26,
   "id": "4ffa8832",
   "metadata": {},
   "outputs": [
    {
     "data": {
      "text/plain": [
       "-30.549388194169182"
      ]
     },
     "execution_count": 26,
     "metadata": {},
     "output_type": "execute_result"
    }
   ],
   "source": [
    "random_number = random.randint(-90, 89) + random.random()\n",
    "random_number\n",
    "\n",
    "#combining random.randint(-90, 89) and random.random() generates floating-point decimal b/w -90 and 90\n",
    "# which we can use to generate a random latitude \n",
    "#changed the lower range of randint() b/c want whole numbers up to 89"
   ]
  },
  {
   "cell_type": "code",
   "execution_count": 27,
   "id": "0105d5ff",
   "metadata": {},
   "outputs": [
    {
     "data": {
      "text/plain": [
       "[-89.61647579863732,\n",
       " -52.713335788024594,\n",
       " -68.82547861373658,\n",
       " -22.532311434897803,\n",
       " 10.61941814957032,\n",
       " 88.32338613733656,\n",
       " 58.49879858497495,\n",
       " -32.130010471713135,\n",
       " -15.53717808969866,\n",
       " -10.732916599432391]"
      ]
     },
     "execution_count": 27,
     "metadata": {},
     "output_type": "execute_result"
    }
   ],
   "source": [
    "#using two fxns, can write algorithm that will generate lats b/w -90 and 89\n",
    "\n",
    "x = 1       #assigned variable x to 1\n",
    "latitudes = []  # initialized an empty list, latitudes\n",
    "while x < 11:   #created while loop where we generate random latitude & add it to list\n",
    "    random_lat = random.randint(-90, 89) + random.random()\n",
    "    latitudes.append(random_lat)\n",
    "    x += 1    #after random latitude is added, using .append, added 1 to the variable \"x\"\n",
    "#the while loop condition is checked again & will continue to run as long as x<11\n",
    "\n",
    "latitudes"
   ]
  },
  {
   "cell_type": "markdown",
   "id": "332242dd",
   "metadata": {},
   "source": [
    "Next, we would have to use a similar method to get random longitudes between –180 and 180, which we can then pair with the latitudes. This looks promising, but the code to generate the latitudes above is a little long. Let's try another function, the randrange() function."
   ]
  },
  {
   "cell_type": "markdown",
   "id": "a40c7daa",
   "metadata": {},
   "source": [
    "- The randrange() function behaves differently than the previous two functions. Inside the parentheses, we need to add two numbers, a lower and upper limit, separated by a comma. \n",
    "- For the randrange() function, there is an option to add a step parameter and set it equal to an integer, which will generate increments of a given integer value, from the lower to the upper limit.\n",
    "- For example, add random.randrange(-90, 90, step=1) to a new cell and run the cell. The output is a number between -90 and 90, where the step is the difference between each number in the sequence."
   ]
  },
  {
   "cell_type": "code",
   "execution_count": 28,
   "id": "895fbf79",
   "metadata": {},
   "outputs": [
    {
     "data": {
      "text/plain": [
       "59"
      ]
     },
     "execution_count": 28,
     "metadata": {},
     "output_type": "execute_result"
    }
   ],
   "source": [
    "random.randrange(-90, 90, step=1)"
   ]
  },
  {
   "cell_type": "markdown",
   "id": "cc6e5657",
   "metadata": {},
   "source": [
    "Now add random.randrange(-90, 90, step=3) to a new cell and run the cell. The output is a number between -90 and 90, where the difference between each number in the sequence is 3."
   ]
  },
  {
   "cell_type": "code",
   "execution_count": 29,
   "id": "c8b11b8b",
   "metadata": {},
   "outputs": [
    {
     "data": {
      "text/plain": [
       "-33"
      ]
     },
     "execution_count": 29,
     "metadata": {},
     "output_type": "execute_result"
    }
   ],
   "source": [
    "random.randrange(-90, 90, step=3)"
   ]
  },
  {
   "cell_type": "markdown",
   "id": "45d507a4",
   "metadata": {},
   "source": [
    "If you don't add the step parameter, the output will be a number with an increment of 1, which is the default integer value.\n",
    "\n",
    "- This function might help us by combining the random.randrange() and random.random() functions to generate a floating-point decimal between –90 and 90, like we did with the random.randint() and random.random() functions.\n",
    "- Let's look at one last function, the uniform() function"
   ]
  },
  {
   "cell_type": "markdown",
   "id": "53bb2007",
   "metadata": {},
   "source": [
    "The uniform() function will allow us to generate a floating-point decimal number between two given numbers inside the parentheses.\n",
    "\n",
    "Add random.uniform(-90, 90) to a new cell and run the cell. The output should look like the following:"
   ]
  },
  {
   "cell_type": "code",
   "execution_count": 30,
   "id": "7d469b10",
   "metadata": {},
   "outputs": [
    {
     "data": {
      "text/plain": [
       "25.575798502529565"
      ]
     },
     "execution_count": 30,
     "metadata": {},
     "output_type": "execute_result"
    }
   ],
   "source": [
    "random.uniform(-90, 90)\n",
    "\n",
    "#the uniform() could prove to be quite useful b/c it will return a floating-point decimal number"
   ]
  },
  {
   "cell_type": "markdown",
   "id": "c7ea716a",
   "metadata": {},
   "source": [
    "### The NumPy and randome Modules"
   ]
  },
  {
   "cell_type": "markdown",
   "id": "a16d8b64",
   "metadata": {},
   "source": [
    "One way to generate more than a thousand latitudes and longitudes is to chain the NumPy module to the random module to create an array of latitudes or longitudes between the lowest and highest values, or –90° and 90°, and –180° and 180°, respectively. To accomplish this, we'll use the uniform() function from the random module."
   ]
  },
  {
   "cell_type": "code",
   "execution_count": 31,
   "id": "32ebc0c5",
   "metadata": {},
   "outputs": [],
   "source": [
    "# Import the NumPy module.\n",
    "import numpy as np"
   ]
  },
  {
   "cell_type": "markdown",
   "id": "b154e054",
   "metadata": {},
   "source": [
    "In the next cell add np.random.uniform(-90.000, 90.000) to generate a floating-point decimal number between –90.000 and 90.000. Adding the zeros past the decimal places is optional.\n",
    "\n"
   ]
  },
  {
   "cell_type": "code",
   "execution_count": 32,
   "id": "abd23134",
   "metadata": {},
   "outputs": [
    {
     "data": {
      "text/plain": [
       "-12.135716612380719"
      ]
     },
     "execution_count": 32,
     "metadata": {},
     "output_type": "execute_result"
    }
   ],
   "source": [
    "np.random.uniform(-90.000, 90.000)"
   ]
  },
  {
   "cell_type": "markdown",
   "id": "2220a2cf",
   "metadata": {},
   "source": [
    "When we use the NumPy module with the random.uniform() function, the parenthetical parameters contain a lower boundary (low value) and an upper boundary (high value) that are floating-point decimal numbers.\n",
    "   - Another option is to write the parameters as np.random.uniform(low=-90, high=90).\n",
    "   - To generate more than one floating-point decimal number between –90 and 90, we can add the size parameter and set that equal to any whole number\n",
    "\n",
    "\n",
    "\n",
    "\n"
   ]
  },
  {
   "cell_type": "code",
   "execution_count": 33,
   "id": "73675754",
   "metadata": {},
   "outputs": [
    {
     "data": {
      "text/plain": [
       "array([ 13.12587502, -32.25243389,  32.4905966 , -34.44773248,\n",
       "        78.98865688, -21.45086463,  70.9919637 ,  -2.16639045,\n",
       "        34.79330772, -36.64042766,   1.36097316,  52.69785949,\n",
       "       -87.57717701, -83.22162793, -82.20637221,  44.92392863,\n",
       "        31.59319093,  43.81760732, -75.24194608,  46.12010577,\n",
       "       -59.33927415, -34.35138922, -61.07167579, -57.52560088,\n",
       "        -9.52198521, -15.87095388, -30.04386087, -71.2011355 ,\n",
       "        79.20853601, -30.8413652 ,  52.33876265,  13.33132678,\n",
       "       -44.46560857,  29.09033436, -53.46566112, -58.84503681,\n",
       "       -23.68321202,  33.46615264, -81.22499438, -19.36182529,\n",
       "        28.84576983, -56.08976399,  34.552675  ,  45.59364225,\n",
       "       -12.31185829,  60.19280781, -22.71899321,  28.32831652,\n",
       "       -25.26010538,  17.02878877])"
      ]
     },
     "execution_count": 33,
     "metadata": {},
     "output_type": "execute_result"
    }
   ],
   "source": [
    "np.random.uniform(-90.000, 90.000, size=50)\n",
    "\n",
    "#output array of 50 floating-point decimal numbers b/w -90.000 & 90.000"
   ]
  },
  {
   "cell_type": "markdown",
   "id": "3f2d34e3",
   "metadata": {},
   "source": [
    "To test how long a piece of code or function takes to run, we can import the \"timeit\" module and use the %timeit magic command when we run our code or call the function."
   ]
  },
  {
   "cell_type": "code",
   "execution_count": 34,
   "id": "ef6d921c",
   "metadata": {},
   "outputs": [],
   "source": [
    "# Import timeit.\n",
    "import timeit"
   ]
  },
  {
   "cell_type": "code",
   "execution_count": 35,
   "id": "ef2b92d5",
   "metadata": {},
   "outputs": [
    {
     "name": "stdout",
     "output_type": "stream",
     "text": [
      "28.9 µs ± 1.14 µs per loop (mean ± std. dev. of 7 runs, 10000 loops each)\n"
     ]
    }
   ],
   "source": [
    "%timeit np.random.uniform(-90.000, 90.000, size=1500)"
   ]
  },
  {
   "cell_type": "markdown",
   "id": "992cd064",
   "metadata": {},
   "source": [
    "When we run the cell, the output is the amount of time it took to run the code for 7 runs and 1,000 loops per run.\n",
    "- The output is the amount of time it took to run this code, which is an average of 14.6 microseconds. The amount of time it takes to run this code depends on the processing speed and the RAM of your computer.\n",
    "\n",
    "\n"
   ]
  },
  {
   "cell_type": "code",
   "execution_count": 36,
   "id": "215af31e",
   "metadata": {},
   "outputs": [
    {
     "name": "stdout",
     "output_type": "stream",
     "text": [
      "2.78 ms ± 181 µs per loop (mean ± std. dev. of 7 runs, 100 loops each)\n"
     ]
    }
   ],
   "source": [
    "def latitudes(size):\n",
    "    latitudes = []\n",
    "    x = 0\n",
    "    while x < (size):\n",
    "        random_lat = random.randint(-90, 90) + random.random()\n",
    "        latitudes.append(random_lat)\n",
    "        x += 1\n",
    "    return latitudes\n",
    "# Call the function with 1500.\n",
    "%timeit latitudes(1500)"
   ]
  },
  {
   "cell_type": "markdown",
   "id": "e461982f",
   "metadata": {},
   "source": [
    "^ the output is 2.8 milliseconds\n",
    "- Using the np.random.uniform(-90.000, 90.000, size=1500) is 100 times faster than using the function, and our code is one line, whereas the function uses eight lines!\n",
    "\n"
   ]
  },
  {
   "cell_type": "markdown",
   "id": "4f8fcff2",
   "metadata": {},
   "source": [
    "Create latitude and longitude combinations"
   ]
  },
  {
   "cell_type": "code",
   "execution_count": 37,
   "id": "93c22596",
   "metadata": {},
   "outputs": [],
   "source": [
    "# Import the dependencies.\n",
    "import pandas as pd\n",
    "import matplotlib.pyplot as plt\n",
    "import numpy as np"
   ]
  },
  {
   "cell_type": "markdown",
   "id": "b2fffe56",
   "metadata": {},
   "source": [
    "In the next cell, we'll add the code that generates the latitudes and longitudes, but first, they need to be stored so that we can access them later. Since we are creating arrays of latitudes and longitudes, we'll declare each array as a variable.\n",
    "In the next cell, add the following code that we used to generate the random latitudes. Also, we'll create a similar code snippet that will generate longitudes. To ensure enough latitudes and longitudes, we'll start with 1,500. In addition, we'll pack the latitudes (lats) and longitudes (lngs) as pairs by zipping them (lat_lngs) with the zip() function."
   ]
  },
  {
   "cell_type": "code",
   "execution_count": 38,
   "id": "d6fd9ee4",
   "metadata": {},
   "outputs": [
    {
     "data": {
      "text/plain": [
       "<zip at 0x11f72d6c0>"
      ]
     },
     "execution_count": 38,
     "metadata": {},
     "output_type": "execute_result"
    }
   ],
   "source": [
    "# Create a set of random latitude and longitude combinations.\n",
    "lats = np.random.uniform(low=-90.000, high=90.000, size=1500)\n",
    "lngs = np.random.uniform(low=-180.000, high=180.000, size=1500)\n",
    "lat_lngs = zip(lats, lngs)\n",
    "lat_lngs"
   ]
  },
  {
   "cell_type": "code",
   "execution_count": 40,
   "id": "c281b4b2",
   "metadata": {},
   "outputs": [],
   "source": [
    "# the output is a zip object in memory "
   ]
  },
  {
   "cell_type": "markdown",
   "id": "c64d6154",
   "metadata": {},
   "source": [
    "The zip object packs each pair of lats and lngs having the same index in their respective array into a tuple. If there are 1,500 latitudes and longitudes, there will be 1,500 tuples of paired latitudes and longitudes, where each latitude and longitude in a tuple can be accessed by the index of 0 and 1, respectively."
   ]
  },
  {
   "cell_type": "markdown",
   "id": "3cd26bc1",
   "metadata": {},
   "source": [
    "### Practice zipping a small # of latitudes & longitudes & then unpacking zipped tuple to see how the packing/unpacking work"
   ]
  },
  {
   "cell_type": "code",
   "execution_count": 42,
   "id": "a598e7cf",
   "metadata": {},
   "outputs": [],
   "source": [
    "# Create a practice set of random latitude and longitude combinations.\n",
    "x = [25.12903645, 25.92017388, 26.62509167, -59.98969384, 37.30571269]\n",
    "y = [-67.59741259, 11.09532135, 74.84233102, -76.89176677, -61.13376282]\n",
    "coordinates = zip(x, y)"
   ]
  },
  {
   "cell_type": "code",
   "execution_count": 43,
   "id": "8600388e",
   "metadata": {},
   "outputs": [
    {
     "name": "stdout",
     "output_type": "stream",
     "text": [
      "25.12903645 -67.59741259\n",
      "25.92017388 11.09532135\n",
      "26.62509167 74.84233102\n",
      "-59.98969384 -76.89176677\n",
      "37.30571269 -61.13376282\n"
     ]
    }
   ],
   "source": [
    "# Use the tuple() function to display the latitude and longitude combinations.\n",
    "for coordinate in coordinates:\n",
    "    print(coordinate[0], coordinate[1])"
   ]
  },
  {
   "cell_type": "code",
   "execution_count": 44,
   "id": "b39d81da",
   "metadata": {},
   "outputs": [],
   "source": [
    "# Add the latitudes and longitudes to a list.\n",
    "coordinates = list(lat_lngs)"
   ]
  },
  {
   "cell_type": "code",
   "execution_count": 47,
   "id": "d7ab906c",
   "metadata": {},
   "outputs": [
    {
     "ename": "ModuleNotFoundError",
     "evalue": "No module named 'kdtree'",
     "output_type": "error",
     "traceback": [
      "\u001b[0;31m---------------------------------------------------------------------------\u001b[0m",
      "\u001b[0;31mModuleNotFoundError\u001b[0m                       Traceback (most recent call last)",
      "\u001b[0;32m<ipython-input-47-b8b9cd5c9832>\u001b[0m in \u001b[0;36m<module>\u001b[0;34m\u001b[0m\n\u001b[1;32m      1\u001b[0m \u001b[0;31m# Use the citipy module to determine city based on latitude and longitude.\u001b[0m\u001b[0;34m\u001b[0m\u001b[0;34m\u001b[0m\u001b[0;34m\u001b[0m\u001b[0m\n\u001b[0;32m----> 2\u001b[0;31m \u001b[0;32mfrom\u001b[0m \u001b[0mcitipy\u001b[0m \u001b[0;32mimport\u001b[0m \u001b[0mcitipy\u001b[0m\u001b[0;34m\u001b[0m\u001b[0;34m\u001b[0m\u001b[0m\n\u001b[0m",
      "\u001b[0;32m~/Documents/BOOTCAMP/MODULES/MODULE6/citipy/citipy.py\u001b[0m in \u001b[0;36m<module>\u001b[0;34m\u001b[0m\n\u001b[1;32m      1\u001b[0m \u001b[0;32mimport\u001b[0m \u001b[0mcsv\u001b[0m\u001b[0;34m\u001b[0m\u001b[0;34m\u001b[0m\u001b[0m\n\u001b[0;32m----> 2\u001b[0;31m \u001b[0;32mimport\u001b[0m \u001b[0mkdtree\u001b[0m\u001b[0;34m\u001b[0m\u001b[0;34m\u001b[0m\u001b[0m\n\u001b[0m\u001b[1;32m      3\u001b[0m \u001b[0;32mimport\u001b[0m \u001b[0mos\u001b[0m\u001b[0;34m\u001b[0m\u001b[0;34m\u001b[0m\u001b[0m\n\u001b[1;32m      4\u001b[0m \u001b[0;34m\u001b[0m\u001b[0m\n\u001b[1;32m      5\u001b[0m \u001b[0;34m\u001b[0m\u001b[0m\n",
      "\u001b[0;31mModuleNotFoundError\u001b[0m: No module named 'kdtree'"
     ]
    }
   ],
   "source": [
    "# Use the citipy module to determine city based on latitude and longitude.\n",
    "from citipy import citipy"
   ]
  },
  {
   "cell_type": "code",
   "execution_count": null,
   "id": "6a6923fa",
   "metadata": {},
   "outputs": [],
   "source": []
  }
 ],
 "metadata": {
  "kernelspec": {
   "display_name": "PythonData",
   "language": "python",
   "name": "pythondata"
  },
  "language_info": {
   "codemirror_mode": {
    "name": "ipython",
    "version": 3
   },
   "file_extension": ".py",
   "mimetype": "text/x-python",
   "name": "python",
   "nbconvert_exporter": "python",
   "pygments_lexer": "ipython3",
   "version": "3.8.8"
  }
 },
 "nbformat": 4,
 "nbformat_minor": 5
}
