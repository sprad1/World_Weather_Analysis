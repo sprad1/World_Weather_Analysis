{
 "cells": [
  {
   "cell_type": "code",
   "execution_count": 1,
   "id": "a426d905",
   "metadata": {},
   "outputs": [],
   "source": [
    "#pip install gmaps"
   ]
  },
  {
   "cell_type": "markdown",
   "id": "40041943",
   "metadata": {},
   "source": [
    "## Deliverable 3. Create a Travel Itinerary Map."
   ]
  },
  {
   "cell_type": "code",
   "execution_count": 2,
   "id": "4d7a24b0",
   "metadata": {},
   "outputs": [],
   "source": [
    "# Import the dependencies.\n",
    "import pandas as pd\n",
    "import gmaps\n",
    "import requests\n",
    "\n",
    "# Import the API key.\n",
    "from config import g_key\n",
    "\n",
    "# Configure gmaps\n",
    "gmaps.configure(api_key=g_key)"
   ]
  },
  {
   "cell_type": "code",
   "execution_count": 3,
   "id": "a16c620e",
   "metadata": {},
   "outputs": [
    {
     "data": {
      "text/html": [
       "<div>\n",
       "<style scoped>\n",
       "    .dataframe tbody tr th:only-of-type {\n",
       "        vertical-align: middle;\n",
       "    }\n",
       "\n",
       "    .dataframe tbody tr th {\n",
       "        vertical-align: top;\n",
       "    }\n",
       "\n",
       "    .dataframe thead th {\n",
       "        text-align: right;\n",
       "    }\n",
       "</style>\n",
       "<table border=\"1\" class=\"dataframe\">\n",
       "  <thead>\n",
       "    <tr style=\"text-align: right;\">\n",
       "      <th></th>\n",
       "      <th>City_ID</th>\n",
       "      <th>City</th>\n",
       "      <th>Country</th>\n",
       "      <th>Max Temp</th>\n",
       "      <th>Current Description</th>\n",
       "      <th>Lat</th>\n",
       "      <th>Lng</th>\n",
       "      <th>Hotel Name</th>\n",
       "    </tr>\n",
       "  </thead>\n",
       "  <tbody>\n",
       "    <tr>\n",
       "      <th>0</th>\n",
       "      <td>2</td>\n",
       "      <td>Atuona</td>\n",
       "      <td>PF</td>\n",
       "      <td>77.88</td>\n",
       "      <td>scattered clouds</td>\n",
       "      <td>-9.8000</td>\n",
       "      <td>-139.0333</td>\n",
       "      <td>Villa Enata</td>\n",
       "    </tr>\n",
       "    <tr>\n",
       "      <th>1</th>\n",
       "      <td>7</td>\n",
       "      <td>Soyo</td>\n",
       "      <td>AO</td>\n",
       "      <td>77.05</td>\n",
       "      <td>scattered clouds</td>\n",
       "      <td>-6.1349</td>\n",
       "      <td>12.3689</td>\n",
       "      <td>Hotel Mpampa</td>\n",
       "    </tr>\n",
       "    <tr>\n",
       "      <th>2</th>\n",
       "      <td>9</td>\n",
       "      <td>Labuhan</td>\n",
       "      <td>ID</td>\n",
       "      <td>77.47</td>\n",
       "      <td>broken clouds</td>\n",
       "      <td>-6.8844</td>\n",
       "      <td>112.2051</td>\n",
       "      <td>PT PPI Lamongan Tambak C</td>\n",
       "    </tr>\n",
       "    <tr>\n",
       "      <th>3</th>\n",
       "      <td>23</td>\n",
       "      <td>Kitob</td>\n",
       "      <td>UZ</td>\n",
       "      <td>75.78</td>\n",
       "      <td>clear sky</td>\n",
       "      <td>39.0843</td>\n",
       "      <td>66.8332</td>\n",
       "      <td>KESH HOTEL</td>\n",
       "    </tr>\n",
       "    <tr>\n",
       "      <th>4</th>\n",
       "      <td>28</td>\n",
       "      <td>Faanui</td>\n",
       "      <td>PF</td>\n",
       "      <td>78.31</td>\n",
       "      <td>clear sky</td>\n",
       "      <td>-16.4833</td>\n",
       "      <td>-151.7500</td>\n",
       "      <td>Bora-Bora Pearl Beach Resort &amp; Spa</td>\n",
       "    </tr>\n",
       "  </tbody>\n",
       "</table>\n",
       "</div>"
      ],
      "text/plain": [
       "   City_ID     City Country  Max Temp Current Description      Lat       Lng  \\\n",
       "0        2   Atuona      PF     77.88    scattered clouds  -9.8000 -139.0333   \n",
       "1        7     Soyo      AO     77.05    scattered clouds  -6.1349   12.3689   \n",
       "2        9  Labuhan      ID     77.47       broken clouds  -6.8844  112.2051   \n",
       "3       23    Kitob      UZ     75.78           clear sky  39.0843   66.8332   \n",
       "4       28   Faanui      PF     78.31           clear sky -16.4833 -151.7500   \n",
       "\n",
       "                           Hotel Name  \n",
       "0                         Villa Enata  \n",
       "1                        Hotel Mpampa  \n",
       "2            PT PPI Lamongan Tambak C  \n",
       "3                          KESH HOTEL  \n",
       "4  Bora-Bora Pearl Beach Resort & Spa  "
      ]
     },
     "execution_count": 3,
     "metadata": {},
     "output_type": "execute_result"
    }
   ],
   "source": [
    "# 1. Read the WeatherPy_vacation.csv into a DataFrame.\n",
    "vacation_df = pd.read_csv(\"Vacation_Search/WeatherPy_vacation.csv\")\n",
    "vacation_df.head()"
   ]
  },
  {
   "cell_type": "code",
   "execution_count": 4,
   "id": "378bd611",
   "metadata": {},
   "outputs": [],
   "source": [
    "# 2. Using the template add the city name, the country code, the weather description and maximum temperature for the city.\n",
    "info_box_template = \"\"\"\n",
    "<dl>\n",
    "<dt>Hotel Name</dt><dd>{Hotel Name}</dd>\n",
    "<dt>City</dt><dd>{City}</dd>\n",
    "<dt>Country</dt><dd>{Country}</dd>\n",
    "<dt>Weather Description</dt><dd>{Current Description}</dd>\n",
    "<dt>Max Temp</dt><dd>{Max Temp} °F</dd>\n",
    "</dl>\n",
    "\"\"\"\n",
    "\n",
    "# 3a. Get the data from each row and add it to the formatting template and store the data in a list.\n",
    "hotel_info = [info_box_template.format(**row) for index, row in vacation_df.iterrows()]\n",
    "\n",
    "# 3b. Get the latitude and longitude from each row and store in a new DataFrame.\n",
    "locations = vacation_df[[\"Lat\", \"Lng\"]]"
   ]
  },
  {
   "cell_type": "code",
   "execution_count": 5,
   "id": "76566df4",
   "metadata": {
    "scrolled": true
   },
   "outputs": [
    {
     "data": {
      "application/vnd.jupyter.widget-view+json": {
       "model_id": "f3a68554f9054307b704e31ac68a2b1e",
       "version_major": 2,
       "version_minor": 0
      },
      "text/plain": [
       "Figure(layout=FigureLayout(height='420px'))"
      ]
     },
     "metadata": {},
     "output_type": "display_data"
    }
   ],
   "source": [
    "# 4a. Add a marker layer for each city to the map.\n",
    "fig = gmaps.figure(center=(30.0, 31.0), zoom_level=1.4)\n",
    "marker_layer = gmaps.marker_layer(locations, info_box_content=hotel_info)\n",
    "fig.add_layer(marker_layer)\n",
    "\n",
    "# 4b. Display the figure\n",
    "fig"
   ]
  },
  {
   "cell_type": "code",
   "execution_count": 6,
   "id": "298dcbbf",
   "metadata": {},
   "outputs": [
    {
     "data": {
      "text/html": [
       "<div>\n",
       "<style scoped>\n",
       "    .dataframe tbody tr th:only-of-type {\n",
       "        vertical-align: middle;\n",
       "    }\n",
       "\n",
       "    .dataframe tbody tr th {\n",
       "        vertical-align: top;\n",
       "    }\n",
       "\n",
       "    .dataframe thead th {\n",
       "        text-align: right;\n",
       "    }\n",
       "</style>\n",
       "<table border=\"1\" class=\"dataframe\">\n",
       "  <thead>\n",
       "    <tr style=\"text-align: right;\">\n",
       "      <th></th>\n",
       "      <th>City_ID</th>\n",
       "      <th>City</th>\n",
       "      <th>Country</th>\n",
       "      <th>Max Temp</th>\n",
       "      <th>Current Description</th>\n",
       "      <th>Lat</th>\n",
       "      <th>Lng</th>\n",
       "      <th>Hotel Name</th>\n",
       "    </tr>\n",
       "  </thead>\n",
       "  <tbody>\n",
       "    <tr>\n",
       "      <th>32</th>\n",
       "      <td>241</td>\n",
       "      <td>Pyapon</td>\n",
       "      <td>MM</td>\n",
       "      <td>78.91</td>\n",
       "      <td>overcast clouds</td>\n",
       "      <td>16.2833</td>\n",
       "      <td>95.6833</td>\n",
       "      <td>Aung Naing Thu Motel</td>\n",
       "    </tr>\n",
       "  </tbody>\n",
       "</table>\n",
       "</div>"
      ],
      "text/plain": [
       "    City_ID    City Country  Max Temp Current Description      Lat      Lng  \\\n",
       "32      241  Pyapon      MM     78.91     overcast clouds  16.2833  95.6833   \n",
       "\n",
       "              Hotel Name  \n",
       "32  Aung Naing Thu Motel  "
      ]
     },
     "execution_count": 6,
     "metadata": {},
     "output_type": "execute_result"
    }
   ],
   "source": [
    "# From the map above pick 4 cities and create a vacation itinerary route to travel between the four cities. \n",
    "# 5. Create DataFrames for each city by filtering the 'vacation_df' using the loc method. \n",
    "# Hint: The starting and ending city should be the same city.\n",
    "\n",
    "vacation_start = vacation_df.loc[vacation_df[\"City\"] == \"Kathu\"]\n",
    "vacation_end = vacation_df.loc[vacation_df[\"City\"] == \"Kathu\"]\n",
    "vacation_stop1 = vacation_df.loc[vacation_df[\"City\"] == \"Ranong\"]\n",
    "vacation_stop2 = vacation_df.loc[vacation_df[\"City\"] == \"Pyapon\"] \n",
    "vacation_stop3 = vacation_df.loc[vacation_df[\"City\"] == \"Si Satchanalai\"] \n",
    "vacation_stop2"
   ]
  },
  {
   "cell_type": "code",
   "execution_count": 7,
   "id": "876a3124",
   "metadata": {},
   "outputs": [
    {
     "data": {
      "text/plain": [
       "(7.9178, 98.3332)"
      ]
     },
     "execution_count": 7,
     "metadata": {},
     "output_type": "execute_result"
    }
   ],
   "source": [
    "# 6. Get the latitude-longitude pairs as tuples from each city DataFrame using the to_numpy function and list indexing.\n",
    "start = (pd.DataFrame(vacation_start).to_numpy()[0][5],pd.DataFrame(vacation_start).to_numpy()[0][6])\n",
    "end = (pd.DataFrame(vacation_end).to_numpy()[0][5],pd.DataFrame(vacation_end).to_numpy()[0][6])\n",
    "stop1 = (pd.DataFrame(vacation_stop1).to_numpy()[0][5],pd.DataFrame(vacation_stop1).to_numpy()[0][6])\n",
    "stop2 = (pd.DataFrame(vacation_stop2).to_numpy()[0][5],pd.DataFrame(vacation_stop2).to_numpy()[0][6])\n",
    "stop3 = (pd.DataFrame(vacation_stop3).to_numpy()[0][5],pd.DataFrame(vacation_stop3).to_numpy()[0][6])\n",
    "\n",
    "start"
   ]
  },
  {
   "cell_type": "code",
   "execution_count": 8,
   "id": "70419810",
   "metadata": {},
   "outputs": [
    {
     "data": {
      "application/vnd.jupyter.widget-view+json": {
       "model_id": "e0983e994b214c8fae03856dda2bea50",
       "version_major": 2,
       "version_minor": 0
      },
      "text/plain": [
       "Figure(layout=FigureLayout(height='420px'))"
      ]
     },
     "metadata": {},
     "output_type": "display_data"
    }
   ],
   "source": [
    "# 7. Create a direction layer map using the start and end latitude-longitude pairs,\n",
    "# and stop1, stop2, and stop3 as the waypoints. The travel_mode should be \"DRIVING\", \"BICYCLING\", or \"WALKING\".\n",
    "\n",
    "fig = gmaps.figure()\n",
    "start2end_via_stop1_stop2_stop3 = gmaps.directions_layer(start, end, waypoints=[stop1, stop2, stop3], show_markers=True, stroke_color='blue', stroke_weight=3.0, stroke_opacity=1.0, travel_mode='DRIVING')\n",
    "fig.add_layer(start2end_via_stop1_stop2_stop3)\n",
    "fig"
   ]
  },
  {
   "cell_type": "code",
   "execution_count": 9,
   "id": "20adfd42",
   "metadata": {},
   "outputs": [
    {
     "data": {
      "text/html": [
       "<div>\n",
       "<style scoped>\n",
       "    .dataframe tbody tr th:only-of-type {\n",
       "        vertical-align: middle;\n",
       "    }\n",
       "\n",
       "    .dataframe tbody tr th {\n",
       "        vertical-align: top;\n",
       "    }\n",
       "\n",
       "    .dataframe thead th {\n",
       "        text-align: right;\n",
       "    }\n",
       "</style>\n",
       "<table border=\"1\" class=\"dataframe\">\n",
       "  <thead>\n",
       "    <tr style=\"text-align: right;\">\n",
       "      <th></th>\n",
       "      <th>City_ID</th>\n",
       "      <th>City</th>\n",
       "      <th>Country</th>\n",
       "      <th>Max Temp</th>\n",
       "      <th>Current Description</th>\n",
       "      <th>Lat</th>\n",
       "      <th>Lng</th>\n",
       "      <th>Hotel Name</th>\n",
       "    </tr>\n",
       "  </thead>\n",
       "  <tbody>\n",
       "    <tr>\n",
       "      <th>0</th>\n",
       "      <td>255</td>\n",
       "      <td>Kathu</td>\n",
       "      <td>TH</td>\n",
       "      <td>75.02</td>\n",
       "      <td>light rain</td>\n",
       "      <td>7.9178</td>\n",
       "      <td>98.3332</td>\n",
       "      <td>Novotel Phuket Resort</td>\n",
       "    </tr>\n",
       "    <tr>\n",
       "      <th>1</th>\n",
       "      <td>584</td>\n",
       "      <td>Ranong</td>\n",
       "      <td>TH</td>\n",
       "      <td>78.57</td>\n",
       "      <td>overcast clouds</td>\n",
       "      <td>9.9658</td>\n",
       "      <td>98.6348</td>\n",
       "      <td>Tinidee Hotel@Ranong</td>\n",
       "    </tr>\n",
       "    <tr>\n",
       "      <th>2</th>\n",
       "      <td>241</td>\n",
       "      <td>Pyapon</td>\n",
       "      <td>MM</td>\n",
       "      <td>78.91</td>\n",
       "      <td>overcast clouds</td>\n",
       "      <td>16.2833</td>\n",
       "      <td>95.6833</td>\n",
       "      <td>Aung Naing Thu Motel</td>\n",
       "    </tr>\n",
       "    <tr>\n",
       "      <th>3</th>\n",
       "      <td>464</td>\n",
       "      <td>Si Satchanalai</td>\n",
       "      <td>TH</td>\n",
       "      <td>75.56</td>\n",
       "      <td>light rain</td>\n",
       "      <td>17.5169</td>\n",
       "      <td>99.7598</td>\n",
       "      <td>Chanalai Resort and Hotel</td>\n",
       "    </tr>\n",
       "  </tbody>\n",
       "</table>\n",
       "</div>"
      ],
      "text/plain": [
       "   City_ID            City Country  Max Temp Current Description      Lat  \\\n",
       "0      255           Kathu      TH     75.02          light rain   7.9178   \n",
       "1      584          Ranong      TH     78.57     overcast clouds   9.9658   \n",
       "2      241          Pyapon      MM     78.91     overcast clouds  16.2833   \n",
       "3      464  Si Satchanalai      TH     75.56          light rain  17.5169   \n",
       "\n",
       "       Lng                 Hotel Name  \n",
       "0  98.3332      Novotel Phuket Resort  \n",
       "1  98.6348       Tinidee Hotel@Ranong  \n",
       "2  95.6833       Aung Naing Thu Motel  \n",
       "3  99.7598  Chanalai Resort and Hotel  "
      ]
     },
     "execution_count": 9,
     "metadata": {},
     "output_type": "execute_result"
    }
   ],
   "source": [
    "# 8. To create a marker layer map between the four cities.\n",
    "#  Combine the four city DataFrames into one DataFrame using the concat() function.\n",
    "itinerary_df = pd.concat([vacation_start, vacation_stop1,\n",
    "                         vacation_stop2, vacation_stop3]\n",
    "                         ,ignore_index=True)\n",
    "itinerary_df"
   ]
  },
  {
   "cell_type": "code",
   "execution_count": 10,
   "id": "da481e71",
   "metadata": {},
   "outputs": [],
   "source": [
    "# 9 Using the template add city name, the country code, the weather description and maximum temperature for the city. \n",
    "info_box_template = \"\"\"\n",
    "<dl>\n",
    "<dt>Hotel Name</dt><dd>{Hotel Name}</dd>\n",
    "<dt>City</dt><dd>{City}</dd>\n",
    "<dt>Country</dt><dd>{Country}</dd>\n",
    "<dt>Weather Description</dt><dd>{Current Description}</dd>\n",
    "<dt>Max Temp</dt><dd>{Max Temp} °F</dd>\n",
    "</dl>\n",
    "\"\"\"\n",
    "\n",
    "# 10a Get the data from each row and add it to the formatting template and store the data in a list.\n",
    "hotel_info = [info_box_template.format(**row) for index, row in itinerary_df.iterrows()]\n",
    "\n",
    "# 10b. Get the latitude and longitude from each row and store in a new DataFrame.\n",
    "locations = itinerary_df[[\"Lat\", \"Lng\"]]"
   ]
  },
  {
   "cell_type": "code",
   "execution_count": 14,
   "id": "ecafcd5f",
   "metadata": {},
   "outputs": [
    {
     "data": {
      "application/vnd.jupyter.widget-view+json": {
       "model_id": "2f8022b6d21d44179b0b2e13b46f256f",
       "version_major": 2,
       "version_minor": 0
      },
      "text/plain": [
       "Figure(layout=FigureLayout(height='420px'))"
      ]
     },
     "metadata": {},
     "output_type": "display_data"
    }
   ],
   "source": [
    "# 11a. Add a marker layer for each city to the map.\n",
    "fig = gmaps.figure(center=(40.0, 41.0), zoom_level=5.0)\n",
    "marker_layer = gmaps.marker_layer(locations, info_box_content=hotel_info)\n",
    "fig.add_layer(marker_layer)\n",
    "# 11b. Display the figure\n",
    "fig"
   ]
  },
  {
   "cell_type": "code",
   "execution_count": null,
   "id": "bf2d23c9",
   "metadata": {},
   "outputs": [],
   "source": []
  }
 ],
 "metadata": {
  "kernelspec": {
   "display_name": "PythonData",
   "language": "python",
   "name": "pythondata"
  },
  "language_info": {
   "codemirror_mode": {
    "name": "ipython",
    "version": 3
   },
   "file_extension": ".py",
   "mimetype": "text/x-python",
   "name": "python",
   "nbconvert_exporter": "python",
   "pygments_lexer": "ipython3",
   "version": "3.8.8"
  }
 },
 "nbformat": 4,
 "nbformat_minor": 5
}
